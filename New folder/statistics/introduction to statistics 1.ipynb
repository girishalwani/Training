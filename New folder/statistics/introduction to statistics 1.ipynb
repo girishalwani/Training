{
 "cells": [
  {
   "cell_type": "code",
   "execution_count": 8,
   "metadata": {},
   "outputs": [],
   "source": [
    "import numpy as np\n",
    "%matplotlib inline\n",
    "import matplotlib.pyplot as plt"
   ]
  },
  {
   "cell_type": "code",
   "execution_count": 13,
   "metadata": {},
   "outputs": [
    {
     "data": {
      "text/plain": [
       "10000"
      ]
     },
     "execution_count": 13,
     "metadata": {},
     "output_type": "execute_result"
    }
   ],
   "source": [
    "incomes = np.random.normal(40000,15000,10000)\n",
    "incomes.size"
   ]
  },
  {
   "cell_type": "code",
   "execution_count": 10,
   "metadata": {},
   "outputs": [
    {
     "data": {
      "text/plain": [
       "39965.09194614085"
      ]
     },
     "execution_count": 10,
     "metadata": {},
     "output_type": "execute_result"
    }
   ],
   "source": [
    "np.mean(incomes)"
   ]
  },
  {
   "cell_type": "code",
   "execution_count": 11,
   "metadata": {},
   "outputs": [
    {
     "data": {
      "text/plain": [
       "(array([  1.,   1.,   1.,   1.,   2.,  12.,  13.,  11.,  21.,  31.,  36.,\n",
       "         69.,  94., 136., 171., 220., 241., 307., 392., 425., 512., 539.,\n",
       "        584., 638., 595., 583., 611., 606., 532., 490., 443., 375., 315.,\n",
       "        250., 194., 156., 112.,  78.,  64.,  52.,  34.,  14.,  14.,  11.,\n",
       "          6.,   3.,   0.,   3.,   0.,   1.]),\n",
       " array([-18151.45424203, -15819.54098833, -13487.62773462, -11155.71448092,\n",
       "         -8823.80122721,  -6491.88797351,  -4159.9747198 ,  -1828.0614661 ,\n",
       "           503.85178761,   2835.76504131,   5167.67829502,   7499.59154872,\n",
       "          9831.50480243,  12163.41805613,  14495.33130984,  16827.24456354,\n",
       "         19159.15781725,  21491.07107095,  23822.98432466,  26154.89757836,\n",
       "         28486.81083207,  30818.72408577,  33150.63733948,  35482.55059318,\n",
       "         37814.46384689,  40146.37710059,  42478.2903543 ,  44810.203608  ,\n",
       "         47142.11686171,  49474.03011541,  51805.94336912,  54137.85662282,\n",
       "         56469.76987653,  58801.68313023,  61133.59638394,  63465.50963764,\n",
       "         65797.42289135,  68129.33614505,  70461.24939876,  72793.16265246,\n",
       "         75125.07590617,  77456.98915987,  79788.90241358,  82120.81566728,\n",
       "         84452.72892099,  86784.64217469,  89116.5554284 ,  91448.4686821 ,\n",
       "         93780.38193581,  96112.29518951,  98444.20844322]),\n",
       " <BarContainer object of 50 artists>)"
      ]
     },
     "execution_count": 11,
     "metadata": {},
     "output_type": "execute_result"
    },
    {
     "data": {
      "image/png": "[encoded data removed]",
      "text/plain": [
       "<Figure size 432x288 with 1 Axes>"
      ]
     },
     "metadata": {
      "needs_background": "light"
     },
     "output_type": "display_data"
    }
   ],
   "source": [
    "plt.hist(incomes,50)"
   ]
  },
  {
   "cell_type": "code",
   "execution_count": 14,
   "metadata": {},
   "outputs": [
    {
     "data": {
      "text/plain": [
       "10001"
      ]
     },
     "execution_count": 14,
     "metadata": {},
     "output_type": "execute_result"
    }
   ],
   "source": [
    "incomes =np.append(incomes,[1000000000])\n",
    "incomes.size"
   ]
  },
  {
   "cell_type": "code",
   "execution_count": 15,
   "metadata": {},
   "outputs": [
    {
     "data": {
      "text/plain": [
       "39947.561399173195"
      ]
     },
     "execution_count": 15,
     "metadata": {},
     "output_type": "execute_result"
    }
   ],
   "source": [
    "np.median(incomes)"
   ]
  },
  {
   "cell_type": "code",
   "execution_count": 17,
   "metadata": {},
   "outputs": [
    {
     "data": {
      "text/plain": [
       "140034.3374195187"
      ]
     },
     "execution_count": 17,
     "metadata": {},
     "output_type": "execute_result"
    }
   ],
   "source": [
    "np.mean(incomes)"
   ]
  },
  {
   "cell_type": "code",
   "execution_count": 18,
   "metadata": {},
   "outputs": [],
   "source": [
    "from scipy import stats"
   ]
  },
  {
   "cell_type": "code",
   "execution_count": 20,
   "metadata": {},
   "outputs": [
    {
     "data": {
      "text/plain": [
       "500"
      ]
     },
     "execution_count": 20,
     "metadata": {},
     "output_type": "execute_result"
    }
   ],
   "source": [
    "ages=np.random.randint(18,high=90,size=500)\n",
    "ages.size"
   ]
  },
  {
   "cell_type": "code",
   "execution_count": 21,
   "metadata": {},
   "outputs": [
    {
     "data": {
      "text/plain": [
       "ModeResult(mode=array([35]), count=array([14]))"
      ]
     },
     "execution_count": 21,
     "metadata": {},
     "output_type": "execute_result"
    }
   ],
   "source": [
    "stats.mode(ages)"
   ]
  },
  {
   "cell_type": "code",
   "execution_count": 23,
   "metadata": {},
   "outputs": [
    {
     "data": {
      "text/plain": [
       "42"
      ]
     },
     "execution_count": 23,
     "metadata": {},
     "output_type": "execute_result"
    }
   ],
   "source": []
  },
  {
   "cell_type": "code",
   "execution_count": null,
   "metadata": {},
   "outputs": [],
   "source": []
  }
 ],
 "metadata": {
  "kernelspec": {
   "display_name": "Python 3",
   "language": "python",
   "name": "python3"
  },
  "language_info": {
   "codemirror_mode": {
    "name": "ipython",
    "version": 3
   },
   "file_extension": ".py",
   "mimetype": "text/x-python",
   "name": "python",
   "nbconvert_exporter": "python",
   "pygments_lexer": "ipython3",
   "version": "3.7.6"
  }
 },
 "nbformat": 4,
 "nbformat_minor": 4
}
